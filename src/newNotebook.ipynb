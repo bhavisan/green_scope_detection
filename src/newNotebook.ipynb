{
 "cells": [
  {
   "cell_type": "code",
   "execution_count": 1,
   "metadata": {},
   "outputs": [
    {
     "name": "stdout",
     "output_type": "stream",
     "text": [
      "rainfall             2877\n",
      "water_table_level    2877\n",
      "market_trend            0\n",
      "final_score          2877\n",
      "dtype: int64\n",
      "Predicted final scores:  [ 66741.05696109  86491.44632595  99587.02438955  53218.00426949\n",
      "  66704.39698838  57529.99927714 110707.21892227  47824.85902043\n",
      "  78236.80360924  37906.92327963  52729.29116908]\n"
     ]
    }
   ],
   "source": [
    "import pandas as pd\n",
    "import numpy as np\n",
    "from sklearn.model_selection import train_test_split\n",
    "from sklearn.ensemble import RandomForestRegressor\n",
    "\n",
    "# Load datasets\n",
    "rainfall_data = pd.read_csv('./dataset/rainfall.csv')  # Replace with actual path\n",
    "housing_data = pd.read_csv('./dataset/AmesHousing.csv')   # Replace with actual path\n",
    "\n",
    "# Generate synthetic water table levels based on rainfall\n",
    "rainfall_data['water_table_level'] = rainfall_data['rainfall'] * np.random.uniform(0.5, 1.5, len(rainfall_data))\n",
    "\n",
    "# Generate synthetic market trends based on housing data\n",
    "housing_data['market_trend'] = housing_data['SalePrice'] * np.random.uniform(0.9, 1.1, len(housing_data))\n",
    "\n",
    "# Combine all synthetic features into a single dataset\n",
    "combined_data = pd.DataFrame({\n",
    "    'rainfall': rainfall_data['rainfall'],\n",
    "    'water_table_level': rainfall_data['water_table_level'],\n",
    "    'market_trend': housing_data['market_trend'],\n",
    "})\n",
    "\n",
    "# Add a final score as a weighted sum of other features\n",
    "combined_data['final_score'] = (\n",
    "    0.4 * combined_data['water_table_level'] +\n",
    "    0.3 * combined_data['market_trend']\n",
    ")\n",
    "\n",
    "# Check for missing values\n",
    "print(combined_data.isnull().sum())\n",
    "\n",
    "# Handle NaN values\n",
    "combined_data = combined_data.dropna()  # Remove rows with NaN values\n",
    "# Alternatively, you can fill NaN values with a value, e.g., the mean\n",
    "# combined_data = combined_data.fillna(combined_data.mean())\n",
    "\n",
    "# Separate features and target\n",
    "X = combined_data.drop('final_score', axis=1)\n",
    "y = combined_data['final_score']\n",
    "\n",
    "# Split the data into training and testing sets\n",
    "X_train, X_test, y_train, y_test = train_test_split(X, y, test_size=0.2, random_state=42)\n",
    "\n",
    "# Initialize and train the model\n",
    "model = RandomForestRegressor(random_state=42)\n",
    "model.fit(X_train, y_train)\n",
    "\n",
    "# Evaluate the model\n",
    "y_pred = model.predict(X_test)\n",
    "\n",
    "# Display results\n",
    "print(\"Predicted final scores: \", y_pred)\n",
    "\n"
   ]
  },
  {
   "cell_type": "code",
   "execution_count": 2,
   "metadata": {},
   "outputs": [
    {
     "name": "stdout",
     "output_type": "stream",
     "text": [
      "Mean Absolute Error (MAE): 1748.0740280538269\n",
      "Mean Squared Error (MSE): 8497899.8877843\n",
      "Root Mean Squared Error (RMSE): 2915.115758899516\n",
      "R-squared (R2): 0.9834183463642933\n"
     ]
    }
   ],
   "source": [
    "from sklearn.metrics import mean_absolute_error, mean_squared_error, r2_score\n",
    "import numpy as np\n",
    "\n",
    "# Evaluate the model\n",
    "y_pred = model.predict(X_test)\n",
    "\n",
    "# Calculate evaluation metrics\n",
    "mae = mean_absolute_error(y_test, y_pred)\n",
    "mse = mean_squared_error(y_test, y_pred)\n",
    "rmse = np.sqrt(mse)\n",
    "r2 = r2_score(y_test, y_pred)\n",
    "\n",
    "# Print the evaluation metrics\n",
    "print(\"Mean Absolute Error (MAE):\", mae)\n",
    "print(\"Mean Squared Error (MSE):\", mse)\n",
    "print(\"Root Mean Squared Error (RMSE):\", rmse)\n",
    "print(\"R-squared (R2):\", r2)\n"
   ]
  },
  {
   "cell_type": "code",
   "execution_count": 3,
   "metadata": {},
   "outputs": [
    {
     "name": "stdout",
     "output_type": "stream",
     "text": [
      "Feature: rainfall, Importance: 0.02456501928050934\n",
      "Feature: water_table_level, Importance: 0.02596468154237983\n",
      "Feature: market_trend, Importance: 0.9494702991771108\n"
     ]
    }
   ],
   "source": [
    "# Feature importance\n",
    "feature_importance = model.feature_importances_\n",
    "\n",
    "# Display the feature importance\n",
    "for feature, importance in zip(X.columns, feature_importance):\n",
    "    print(f\"Feature: {feature}, Importance: {importance}\")\n"
   ]
  },
  {
   "cell_type": "code",
   "execution_count": 4,
   "metadata": {},
   "outputs": [
    {
     "name": "stdout",
     "output_type": "stream",
     "text": [
      "Predicted final score: [60769.18502881]\n"
     ]
    }
   ],
   "source": [
    "# Example new data\n",
    "new_data = pd.DataFrame({\n",
    "    'rainfall': [50],  # Example rainfall\n",
    "    'water_table_level': [30],  # Example water table level\n",
    "    'market_trend': [200000]  # Example market trend (SalePrice)\n",
    "})\n",
    "\n",
    "# Predict the final score using the trained model\n",
    "final_score_prediction = model.predict(new_data)\n",
    "print(\"Predicted final score:\", final_score_prediction)\n"
   ]
  },
  {
   "cell_type": "code",
   "execution_count": 5,
   "metadata": {},
   "outputs": [
    {
     "name": "stdout",
     "output_type": "stream",
     "text": [
      "Predicted final score using loaded model: [60769.18502881]\n"
     ]
    }
   ],
   "source": [
    "import joblib\n",
    "\n",
    "# Save the trained model to a file\n",
    "joblib.dump(model, 'final_score_model.pkl')\n",
    "\n",
    "# Load the model from the file later\n",
    "loaded_model = joblib.load('final_score_model.pkl')\n",
    "\n",
    "# Use the loaded model to make predictions\n",
    "loaded_model_prediction = loaded_model.predict(new_data)\n",
    "print(\"Predicted final score using loaded model:\", loaded_model_prediction)\n"
   ]
  },
  {
   "cell_type": "code",
   "execution_count": null,
   "metadata": {},
   "outputs": [],
   "source": []
  }
 ],
 "metadata": {
  "kernelspec": {
   "display_name": "Python 3",
   "language": "python",
   "name": "python3"
  },
  "language_info": {
   "codemirror_mode": {
    "name": "ipython",
    "version": 3
   },
   "file_extension": ".py",
   "mimetype": "text/x-python",
   "name": "python",
   "nbconvert_exporter": "python",
   "pygments_lexer": "ipython3",
   "version": "3.12.3"
  }
 },
 "nbformat": 4,
 "nbformat_minor": 2
}
